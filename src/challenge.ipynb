{
 "cells": [
  {
   "cell_type": "markdown",
   "metadata": {},
   "source": [
    "En este archivo puedes escribir lo que estimes conveniente. Te recomendamos detallar tu solución y todas las suposiciones que estás considerando. Aquí puedes ejecutar las funciones que definiste en los otros archivos de la carpeta src, medir el tiempo, memoria, etc."
   ]
  },
  {
   "cell_type": "code",
   "execution_count": 1,
   "metadata": {},
   "outputs": [],
   "source": [
    "file_path = \"farmers-protest-tweets-2021-2-4.json\""
   ]
  },
  {
   "cell_type": "code",
   "execution_count": 2,
   "metadata": {},
   "outputs": [],
   "source": [
    "from memory_profiler import memory_usage\n",
    "from q1_memory import q1_memory\n",
    "from q1_time import q1_time\n",
    "from q2_memory import q2_memory\n",
    "from q2_time import q2_time\n",
    "from q3_memory import q3_memory\n",
    "from q3_time import q3_time"
   ]
  },
  {
   "cell_type": "code",
   "execution_count": 3,
   "metadata": {},
   "outputs": [],
   "source": [
    "# Ejecuta una función y retorna el máximo de MB de memoria usada y el valor de retorno de la función.\n",
    "def profile_function(func, *args, **kwargs):\n",
    "    mem_usage, return_value = memory_usage((func, args, kwargs), retval=True, max_usage=True)\n",
    "    return mem_usage, return_value"
   ]
  },
  {
   "cell_type": "markdown",
   "metadata": {},
   "source": [
    "> Notas\n",
    "\n",
    "- Se usan rangos específicos para la búsqueda de emoji (ver código de q2)\n",
    "- Se asumen los tags a usuarios de twitter como un @ seguido de hasta 15 caracteres alfanuméricos y underscore (_)\n",
    "- Para las comparaciones de tiempos de ejecución se usan solamente los tiempos de ejecución de las celdas del Jupyter Notebook\n"
   ]
  },
  {
   "cell_type": "markdown",
   "metadata": {},
   "source": [
    "## Top 10 de fechas con más tweets y usuario con más tweets"
   ]
  },
  {
   "cell_type": "markdown",
   "metadata": {},
   "source": [
    "### Eficiencia: Memoria"
   ]
  },
  {
   "cell_type": "markdown",
   "metadata": {},
   "source": [
    "La función q1_memory optimiza el uso de memoria leyendo el json elemento por elemento, no carga todo el archivo en memoria.\n",
    "\n",
    "Algoritmo:\n",
    "\n",
    "1. Lee el elemento del diccionario y si es una fecha nueva la agrega a un nuevo diccionario de fechas asignandole el valor 1 al conteo, si la fecha ya existe en el diccionario de fechas aumenta su valor en 1.\n",
    "2. Por cada fecha encontrada, se almacena un diccionario anidado con los usuarios y su conteo.\n",
    "3. Se ordena el listado de fechas segun la cantidad de tweets y se obtiene el top 10.\n",
    "4. Se ordena el listado de usuarios para cada fecha y se obtiene el usuario con más tweets."
   ]
  },
  {
   "cell_type": "code",
   "execution_count": 4,
   "metadata": {},
   "outputs": [
    {
     "name": "stdout",
     "output_type": "stream",
     "text": [
      "Maximo memoria: 76.3203125 MiB\n",
      "Top 10 fechas y usuarios: [(datetime.date(2021, 2, 12), 'RanbirS00614606'), (datetime.date(2021, 2, 13), 'MaanDee08215437'), (datetime.date(2021, 2, 17), 'RaaJVinderkaur'), (datetime.date(2021, 2, 16), 'jot__b'), (datetime.date(2021, 2, 14), 'rebelpacifist'), (datetime.date(2021, 2, 18), 'neetuanjle_nitu'), (datetime.date(2021, 2, 15), 'jot__b'), (datetime.date(2021, 2, 20), 'MangalJ23056160'), (datetime.date(2021, 2, 23), 'Surrypuria'), (datetime.date(2021, 2, 19), 'Preetm91')]\n"
     ]
    }
   ],
   "source": [
    "max_mem, result = profile_function(q1_memory, file_path)\n",
    "print(f\"Maximo memoria: {max_mem} MiB\")\n",
    "print(f\"Top 10 fechas y usuarios: {result}\")"
   ]
  },
  {
   "cell_type": "markdown",
   "metadata": {},
   "source": [
    "### Eficiencia: Tiempo"
   ]
  },
  {
   "cell_type": "markdown",
   "metadata": {},
   "source": [
    "La función q1_time optimiza el tiempo de ejecución quitando operaciones como la verificación de claves en los diccionarios y el conteo se realiza en un solo lazo.\n",
    "\n",
    "Algoritmo:\n",
    "\n",
    "1. Lee el elemento del diccionario y usa default_dcit para guardar la fecha y los usuarios.\n",
    "2. Por cada fecha encontrada, se almacena un diccionario anidado con los usuarios y su conteo.\n",
    "3. Se ordena el listado de fechas segun la cantidad de tweets y se obtiene el top 10.\n",
    "4. Se ordena el listado de usuarios para cada fecha y se obtiene el usuario con más tweets."
   ]
  },
  {
   "cell_type": "code",
   "execution_count": 5,
   "metadata": {},
   "outputs": [
    {
     "name": "stdout",
     "output_type": "stream",
     "text": [
      "Maximo memoria: 76.51171875 MiB\n",
      "Top 10 fechas y usuarios: [(datetime.date(2021, 2, 12), 'RanbirS00614606'), (datetime.date(2021, 2, 13), 'MaanDee08215437'), (datetime.date(2021, 2, 17), 'RaaJVinderkaur'), (datetime.date(2021, 2, 16), 'jot__b'), (datetime.date(2021, 2, 14), 'rebelpacifist'), (datetime.date(2021, 2, 18), 'neetuanjle_nitu'), (datetime.date(2021, 2, 15), 'jot__b'), (datetime.date(2021, 2, 20), 'MangalJ23056160'), (datetime.date(2021, 2, 23), 'Surrypuria'), (datetime.date(2021, 2, 19), 'Preetm91')]\n"
     ]
    }
   ],
   "source": [
    "max_mem, result = profile_function(q1_time, file_path)\n",
    "print(f\"Maximo memoria: {max_mem} MiB\")\n",
    "print(f\"Top 10 fechas y usuarios: {result}\")"
   ]
  },
  {
   "cell_type": "markdown",
   "metadata": {},
   "source": [
    "## Top 10 de emojis más usados"
   ]
  },
  {
   "cell_type": "markdown",
   "metadata": {},
   "source": [
    "La función q2_memory optimiza el uso de memoria leyendo el json elemento por elemento, no carga todo el archivo en memoria.\n",
    "\n",
    "Algoritmo:\n",
    "\n",
    "1. Lee el elemento del diccionario y compara los caracteres del string de contenido comparando con rangos de caracteres de emojis.\n",
    "2. Se almacenan los conteos en un diccionario que usa el emoji como llave\n",
    "3. Se ordena el diccionario resultante y se extrae el top 10."
   ]
  },
  {
   "cell_type": "markdown",
   "metadata": {},
   "source": [
    "### Eficiencia: Memoria"
   ]
  },
  {
   "cell_type": "code",
   "execution_count": 6,
   "metadata": {},
   "outputs": [
    {
     "name": "stdout",
     "output_type": "stream",
     "text": [
      "Maximo memoria: 75.43359375 MiB\n",
      "Top 10 emojis más usados: [('🙏', 7286), ('😂', 3072), ('🚜', 2972), ('✊', 2411), ('🌾', 2363), ('🏻', 2080), ('❤', 1779), ('🏽', 1218), ('👇', 1108), ('💚', 1040)]\n"
     ]
    }
   ],
   "source": [
    "max_mem, result = profile_function(q2_memory, file_path)\n",
    "print(f\"Maximo memoria: {max_mem} MiB\")\n",
    "print(f\"Top 10 emojis más usados: {result}\")"
   ]
  },
  {
   "cell_type": "markdown",
   "metadata": {},
   "source": [
    "### Eficiencia: Tiempo"
   ]
  },
  {
   "cell_type": "markdown",
   "metadata": {},
   "source": [
    "La función q2_time optimiza el tiempo de ejecucuón usando la librería Counter y usando una expresión regular para capturar los emojis en el string de contenido.\n",
    "\n",
    "Algoritmo:\n",
    "\n",
    "1. Lee el elemento del diccionario y compara los caracteres del string de contenido comparando con rangos de caracteres de emojis.\n",
    "2. Se almacenan los conteos en un diccionario que usa el emoji como llave\n",
    "3. Se ordena el diccionario resultante y se extrae el top 10."
   ]
  },
  {
   "cell_type": "code",
   "execution_count": 7,
   "metadata": {},
   "outputs": [
    {
     "name": "stdout",
     "output_type": "stream",
     "text": [
      "Maximo memoria: 73.515625 MiB\n",
      "Top 10 emojis más usados: [('🙏', 7286), ('😂', 3072), ('🚜', 2972), ('✊', 2411), ('🌾', 2363), ('🏻', 2080), ('❤', 1779), ('🏽', 1218), ('👇', 1108), ('💚', 1040)]\n"
     ]
    }
   ],
   "source": [
    "max_mem, result = profile_function(q2_time, file_path)\n",
    "print(f\"Maximo memoria: {max_mem} MiB\")\n",
    "print(f\"Top 10 emojis más usados: {result}\")"
   ]
  },
  {
   "cell_type": "markdown",
   "metadata": {},
   "source": [
    "## Top 10 de usuarios más influyentes"
   ]
  },
  {
   "cell_type": "markdown",
   "metadata": {},
   "source": [
    "### Eficiencia: Memoria"
   ]
  },
  {
   "cell_type": "markdown",
   "metadata": {},
   "source": [
    "La función q3_memory optimiza el uso de memoria leyendo el json elemento por elemento.\n",
    "\n",
    "Algoritmo:\n",
    "\n",
    "1. Lee el elemento del diccionario y compara con el formato de un tag de nombre de usuario de twitter.\n",
    "2. Se almacenan los conteos en un diccionario que usa el usuario como llave\n",
    "3. Se ordena el diccionario resultante y se extrae el top 10."
   ]
  },
  {
   "cell_type": "code",
   "execution_count": 8,
   "metadata": {},
   "outputs": [
    {
     "name": "stdout",
     "output_type": "stream",
     "text": [
      "Maximo memoria: 74.98828125 MiB\n",
      "Top 10 usuarios más influyentes: [('@narendramodi', 2261), ('@Kisanektamorcha', 1836), ('@RakeshTikaitBKU', 1641), ('@PMOIndia', 1422), ('@RahulGandhi', 1125), ('@GretaThunberg', 1046), ('@RaviSinghKA', 1015), ('@rihanna', 972), ('@UNHumanRights', 962), ('@meenaharris', 925)]\n"
     ]
    }
   ],
   "source": [
    "max_mem, result = profile_function(q3_memory, file_path)\n",
    "print(f\"Maximo memoria: {max_mem} MiB\")\n",
    "print(f\"Top 10 usuarios más influyentes: {result}\")"
   ]
  },
  {
   "cell_type": "markdown",
   "metadata": {},
   "source": [
    "### Eficiencia: Tiempo"
   ]
  },
  {
   "cell_type": "markdown",
   "metadata": {},
   "source": [
    "La función q3_time optimiza el uso de tiempo usando la librería Counter y sus funciones incluídas para optimiza el conteo y el ordenamiento para extraer el top 10.\n",
    "\n",
    "Algoritmo:\n",
    "\n",
    "1. Lee el elemento del diccionario y compara con el formato de un tag de nombre de usuario de twitter.\n",
    "2. Se almacenan los conteos en un diccionario que usa el usuario como llave\n",
    "3. Se ordena el diccionario resultante y se extrae el top 10."
   ]
  },
  {
   "cell_type": "code",
   "execution_count": 9,
   "metadata": {},
   "outputs": [
    {
     "name": "stdout",
     "output_type": "stream",
     "text": [
      "Maximo memoria: 75.0546875 MiB\n",
      "Top 10 usuarios más influyentes: [('@narendramodi', 2261), ('@Kisanektamorcha', 1836), ('@RakeshTikaitBKU', 1641), ('@PMOIndia', 1422), ('@RahulGandhi', 1125), ('@GretaThunberg', 1046), ('@RaviSinghKA', 1015), ('@rihanna', 972), ('@UNHumanRights', 962), ('@meenaharris', 925)]\n"
     ]
    }
   ],
   "source": [
    "max_mem, result = profile_function(q3_time, file_path)\n",
    "print(f\"Maximo memoria: {max_mem} MiB\")\n",
    "print(f\"Top 10 usuarios más influyentes: {result}\")"
   ]
  }
 ],
 "metadata": {
  "kernelspec": {
   "display_name": "venv",
   "language": "python",
   "name": "python3"
  },
  "language_info": {
   "codemirror_mode": {
    "name": "ipython",
    "version": 3
   },
   "file_extension": ".py",
   "mimetype": "text/x-python",
   "name": "python",
   "nbconvert_exporter": "python",
   "pygments_lexer": "ipython3",
   "version": "3.7.0"
  },
  "orig_nbformat": 4
 },
 "nbformat": 4,
 "nbformat_minor": 2
}
